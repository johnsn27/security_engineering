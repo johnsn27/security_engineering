{
 "cells": [
  {
   "cell_type": "code",
   "execution_count": 1,
   "metadata": {},
   "outputs": [
    {
     "name": "stdout",
     "output_type": "stream",
     "text": [
      "Network location: BBC Standard\n",
      "\u001b[37;40mnpm\u001b[0m \u001b[0m\u001b[30;43mWARN\u001b[0m \u001b[0m\u001b[35mnpm\u001b[0m npm does not support Node.js v14.12.0\n",
      "\u001b[0m\u001b[37;40mnpm\u001b[0m \u001b[0m\u001b[30;43mWARN\u001b[0m \u001b[0m\u001b[35mnpm\u001b[0m You should probably upgrade to a newer version of node as we\n",
      "\u001b[0m\u001b[37;40mnpm\u001b[0m \u001b[0m\u001b[30;43mWARN\u001b[0m \u001b[0m\u001b[35mnpm\u001b[0m can't make any promises that npm will work with this version.\n",
      "\u001b[0m\u001b[37;40mnpm\u001b[0m \u001b[0m\u001b[30;43mWARN\u001b[0m \u001b[0m\u001b[35mnpm\u001b[0m Supported releases of Node.js are the latest release of 4, 6, 7, 8, 9.\n",
      "\u001b[0m\u001b[37;40mnpm\u001b[0m \u001b[0m\u001b[30;43mWARN\u001b[0m \u001b[0m\u001b[35mnpm\u001b[0m You can find the latest version at https://nodejs.org/\n",
      "\u001b[K\u001b[?25hl⸨\u001b[90m░░░░░░░░░░░░░░░░░░\u001b[0m⸩ ⠙ : \u001b[34;40mverb\u001b[0m \u001b[35mconfig\u001b[0m Skipping project config: /Users/johnsn27/.\u001b[0m\u001b[K\u001b[37;40mnpm\u001b[0m \u001b[0m\u001b[30;43mWARN\u001b[0m \u001b[0m\u001b[35mnpm\u001b[0m npm does not support Node.js v14.12.0\n",
      "\u001b[0m\u001b[37;40mnpm\u001b[0m \u001b[0m\u001b[30;43mWARN\u001b[0m \u001b[0m\u001b[35mnpm\u001b[0m You should probably upgrade to a newer version of node as we\n",
      "\u001b[0m\u001b[37;40mnpm\u001b[0m \u001b[0m\u001b[30;43mWARN\u001b[0m \u001b[0m\u001b[35mnpm\u001b[0m can't make any promises that npm will work with this version.\n",
      "\u001b[0m\u001b[37;40mnpm\u001b[0m \u001b[0m\u001b[30;43mWARN\u001b[0m \u001b[0m\u001b[35mnpm\u001b[0m Supported releases of Node.js are the latest release of 4, 6, 7, 8, 9.\n",
      "\u001b[0m\u001b[37;40mnpm\u001b[0m \u001b[0m\u001b[30;43mWARN\u001b[0m \u001b[0m\u001b[35mnpm\u001b[0m You can find the latest version at https://nodejs.org/\n",
      "\u001b[0mRequirement already satisfied: pip in /Users/johnsn27/miniconda3/lib/python3.7/site-packages (20.3.3)\n",
      "Collecting pip\n",
      "  Using cached pip-21.0.1-py3-none-any.whl (1.5 MB)\n",
      "Installing collected packages: pip\n",
      "  Attempting uninstall: pip\n",
      "    Found existing installation: pip 20.3.3\n",
      "    Uninstalling pip-20.3.3:\n",
      "      Successfully uninstalled pip-20.3.3\n",
      "Successfully installed pip-21.0.1\n",
      "Network location: BBC Standard\n",
      "\u001b[37;40mnpm\u001b[0m \u001b[0m\u001b[30;43mWARN\u001b[0m \u001b[0m\u001b[35mnpm\u001b[0m npm does not support Node.js v14.12.0\n",
      "\u001b[0m\u001b[37;40mnpm\u001b[0m \u001b[0m\u001b[30;43mWARN\u001b[0m \u001b[0m\u001b[35mnpm\u001b[0m You should probably upgrade to a newer version of node as we\n",
      "\u001b[0m\u001b[37;40mnpm\u001b[0m \u001b[0m\u001b[30;43mWARN\u001b[0m \u001b[0m\u001b[35mnpm\u001b[0m can't make any promises that npm will work with this version.\n",
      "\u001b[0m\u001b[37;40mnpm\u001b[0m \u001b[0m\u001b[30;43mWARN\u001b[0m \u001b[0m\u001b[35mnpm\u001b[0m Supported releases of Node.js are the latest release of 4, 6, 7, 8, 9.\n",
      "\u001b[0m\u001b[37;40mnpm\u001b[0m \u001b[0m\u001b[30;43mWARN\u001b[0m \u001b[0m\u001b[35mnpm\u001b[0m You can find the latest version at https://nodejs.org/\n",
      "\u001b[0m\u001b[37;40mnpm\u001b[0m \u001b[0m\u001b[30;43mWARN\u001b[0m \u001b[0m\u001b[35mnpm\u001b[0m npm does not support Node.js v14.12.0\n",
      "\u001b[0m\u001b[37;40mnpm\u001b[0m \u001b[0m\u001b[30;43mWARN\u001b[0m \u001b[0m\u001b[35mnpm\u001b[0m You should probably upgrade to a newer version of node as we\n",
      "\u001b[0m\u001b[37;40mnpm\u001b[0m \u001b[0m\u001b[30;43mWARN\u001b[0m \u001b[0m\u001b[35mnpm\u001b[0m can't make any promises that npm will work with this version.\n",
      "\u001b[0m\u001b[37;40mnpm\u001b[0m \u001b[0m\u001b[30;43mWARN\u001b[0m \u001b[0m\u001b[35mnpm\u001b[0m Supported releases of Node.js are the latest release of 4, 6, 7, 8, 9.\n",
      "\u001b[0m\u001b[37;40mnpm\u001b[0m \u001b[0m\u001b[30;43mWARN\u001b[0m \u001b[0m\u001b[35mnpm\u001b[0m You can find the latest version at https://nodejs.org/\n",
      "\u001b[0mCollecting ipywidgets\n",
      "  Using cached ipywidgets-7.6.3-py2.py3-none-any.whl (121 kB)\n",
      "Collecting jupyterlab-widgets>=1.0.0\n",
      "  Using cached jupyterlab_widgets-1.0.0-py3-none-any.whl (243 kB)\n",
      "Collecting ipython>=4.0.0\n",
      "  Using cached ipython-7.20.0-py3-none-any.whl (784 kB)\n",
      "Collecting nbformat>=4.2.0\n",
      "  Using cached nbformat-5.1.2-py3-none-any.whl (113 kB)\n",
      "Collecting traitlets>=4.3.1\n",
      "  Using cached traitlets-5.0.5-py3-none-any.whl (100 kB)\n",
      "Collecting widgetsnbextension~=3.5.0\n",
      "  Using cached widgetsnbextension-3.5.1-py2.py3-none-any.whl (2.2 MB)\n",
      "Collecting ipykernel>=4.5.1\n",
      "  Using cached ipykernel-5.4.3-py3-none-any.whl (120 kB)\n",
      "Collecting jupyter-client\n",
      "  Using cached jupyter_client-6.1.11-py3-none-any.whl (108 kB)\n",
      "Collecting appnope\n",
      "  Using cached appnope-0.1.2-py2.py3-none-any.whl (4.3 kB)\n",
      "Collecting tornado>=4.2\n",
      "  Downloading tornado-6.1-cp37-cp37m-macosx_10_9_x86_64.whl (416 kB)\n",
      "\u001b[K     |████████████████████████████████| 416 kB 1.6 MB/s eta 0:00:01\n",
      "\u001b[?25hCollecting pexpect>4.3\n",
      "  Using cached pexpect-4.8.0-py2.py3-none-any.whl (59 kB)\n",
      "Collecting decorator\n",
      "  Using cached decorator-4.4.2-py2.py3-none-any.whl (9.2 kB)\n",
      "Requirement already satisfied: setuptools>=18.5 in /Users/johnsn27/miniconda3/lib/python3.7/site-packages (from ipython>=4.0.0->ipywidgets) (45.1.0)\n",
      "Collecting pygments\n",
      "  Using cached Pygments-2.7.4-py3-none-any.whl (950 kB)\n",
      "Collecting prompt-toolkit!=3.0.0,!=3.0.1,<3.1.0,>=2.0.0\n",
      "  Using cached prompt_toolkit-3.0.16-py3-none-any.whl (366 kB)\n",
      "Collecting pickleshare\n",
      "  Using cached pickleshare-0.7.5-py2.py3-none-any.whl (6.9 kB)\n",
      "Collecting jedi>=0.16\n",
      "  Using cached jedi-0.18.0-py2.py3-none-any.whl (1.4 MB)\n",
      "Collecting backcall\n",
      "  Using cached backcall-0.2.0-py2.py3-none-any.whl (11 kB)\n",
      "Collecting parso<0.9.0,>=0.8.0\n",
      "  Using cached parso-0.8.1-py2.py3-none-any.whl (93 kB)\n",
      "Collecting jupyter-core\n",
      "  Using cached jupyter_core-4.7.1-py3-none-any.whl (82 kB)\n",
      "Collecting ipython-genutils\n",
      "  Using cached ipython_genutils-0.2.0-py2.py3-none-any.whl (26 kB)\n",
      "Collecting jsonschema!=2.5.0,>=2.4\n",
      "  Using cached jsonschema-3.2.0-py2.py3-none-any.whl (56 kB)\n",
      "Collecting pyrsistent>=0.14.0\n",
      "  Using cached pyrsistent-0.17.3.tar.gz (106 kB)\n",
      "Requirement already satisfied: attrs>=17.4.0 in /Users/johnsn27/miniconda3/lib/python3.7/site-packages (from jsonschema!=2.5.0,>=2.4->nbformat>=4.2.0->ipywidgets) (20.3.0)\n",
      "Requirement already satisfied: six>=1.11.0 in /Users/johnsn27/miniconda3/lib/python3.7/site-packages (from jsonschema!=2.5.0,>=2.4->nbformat>=4.2.0->ipywidgets) (1.15.0)\n",
      "Requirement already satisfied: importlib-metadata in /Users/johnsn27/miniconda3/lib/python3.7/site-packages (from jsonschema!=2.5.0,>=2.4->nbformat>=4.2.0->ipywidgets) (3.4.0)\n",
      "Collecting ptyprocess>=0.5\n",
      "  Using cached ptyprocess-0.7.0-py2.py3-none-any.whl (13 kB)\n",
      "Collecting wcwidth\n",
      "  Using cached wcwidth-0.2.5-py2.py3-none-any.whl (30 kB)\n",
      "Collecting notebook>=4.4.1\n",
      "  Using cached notebook-6.2.0-py3-none-any.whl (9.5 MB)\n",
      "Requirement already satisfied: jinja2 in /Users/johnsn27/miniconda3/lib/python3.7/site-packages (from notebook>=4.4.1->widgetsnbextension~=3.5.0->ipywidgets) (2.11.2)\n",
      "Collecting argon2-cffi\n",
      "  Using cached argon2_cffi-20.1.0-cp37-abi3-macosx_10_6_intel.whl (65 kB)\n",
      "Collecting Send2Trash>=1.5.0\n",
      "  Using cached Send2Trash-1.5.0-py3-none-any.whl (12 kB)\n",
      "Collecting terminado>=0.8.3\n",
      "  Using cached terminado-0.9.2-py3-none-any.whl (14 kB)\n",
      "Collecting nbconvert\n",
      "  Using cached nbconvert-6.0.7-py3-none-any.whl (552 kB)\n",
      "Collecting prometheus-client\n",
      "  Using cached prometheus_client-0.9.0-py2.py3-none-any.whl (53 kB)\n",
      "Collecting pyzmq>=17\n",
      "  Downloading pyzmq-22.0.3-cp37-cp37m-macosx_10_9_x86_64.whl (1.0 MB)\n",
      "\u001b[K     |████████████████████████████████| 1.0 MB 3.7 MB/s eta 0:00:01\n",
      "\u001b[?25hRequirement already satisfied: python-dateutil>=2.1 in /Users/johnsn27/miniconda3/lib/python3.7/site-packages (from jupyter-client->ipykernel>=4.5.1->ipywidgets) (2.8.1)\n",
      "Requirement already satisfied: cffi>=1.0.0 in /Users/johnsn27/miniconda3/lib/python3.7/site-packages (from argon2-cffi->notebook>=4.4.1->widgetsnbextension~=3.5.0->ipywidgets) (1.12.3)\n",
      "Requirement already satisfied: pycparser in /Users/johnsn27/miniconda3/lib/python3.7/site-packages (from cffi>=1.0.0->argon2-cffi->notebook>=4.4.1->widgetsnbextension~=3.5.0->ipywidgets) (2.19)\n",
      "Requirement already satisfied: typing-extensions>=3.6.4 in /Users/johnsn27/miniconda3/lib/python3.7/site-packages (from importlib-metadata->jsonschema!=2.5.0,>=2.4->nbformat>=4.2.0->ipywidgets) (3.7.4.3)\n",
      "Requirement already satisfied: zipp>=0.5 in /Users/johnsn27/miniconda3/lib/python3.7/site-packages (from importlib-metadata->jsonschema!=2.5.0,>=2.4->nbformat>=4.2.0->ipywidgets) (3.4.0)\n",
      "Requirement already satisfied: MarkupSafe>=0.23 in /Users/johnsn27/miniconda3/lib/python3.7/site-packages (from jinja2->notebook>=4.4.1->widgetsnbextension~=3.5.0->ipywidgets) (1.1.1)\n",
      "Collecting jupyterlab-pygments\n",
      "  Using cached jupyterlab_pygments-0.1.2-py2.py3-none-any.whl (4.6 kB)\n",
      "Collecting mistune<2,>=0.8.1\n",
      "  Using cached mistune-0.8.4-py2.py3-none-any.whl (16 kB)\n",
      "Collecting pandocfilters>=1.4.1\n",
      "  Using cached pandocfilters-1.4.3.tar.gz (16 kB)\n",
      "Collecting defusedxml\n",
      "  Using cached defusedxml-0.6.0-py2.py3-none-any.whl (23 kB)\n",
      "Collecting nbclient<0.6.0,>=0.5.0\n",
      "  Using cached nbclient-0.5.2-py3-none-any.whl (65 kB)\n",
      "Collecting testpath\n",
      "  Using cached testpath-0.4.4-py2.py3-none-any.whl (163 kB)\n"
     ]
    },
    {
     "name": "stdout",
     "output_type": "stream",
     "text": [
      "Collecting entrypoints>=0.2.2\n",
      "  Using cached entrypoints-0.3-py2.py3-none-any.whl (11 kB)\n",
      "Collecting bleach\n",
      "  Using cached bleach-3.3.0-py2.py3-none-any.whl (283 kB)\n",
      "Collecting async-generator\n",
      "  Using cached async_generator-1.10-py3-none-any.whl (18 kB)\n",
      "Collecting nest-asyncio\n",
      "  Using cached nest_asyncio-1.5.1-py3-none-any.whl (5.0 kB)\n",
      "Requirement already satisfied: packaging in /Users/johnsn27/miniconda3/lib/python3.7/site-packages (from bleach->nbconvert->notebook>=4.4.1->widgetsnbextension~=3.5.0->ipywidgets) (20.8)\n",
      "Collecting webencodings\n",
      "  Using cached webencodings-0.5.1-py2.py3-none-any.whl (11 kB)\n",
      "Requirement already satisfied: pyparsing>=2.0.2 in /Users/johnsn27/miniconda3/lib/python3.7/site-packages (from packaging->bleach->nbconvert->notebook>=4.4.1->widgetsnbextension~=3.5.0->ipywidgets) (2.4.7)\n",
      "Building wheels for collected packages: pyrsistent, pandocfilters\n",
      "  Building wheel for pyrsistent (setup.py) ... \u001b[?25ldone\n",
      "\u001b[?25h  Created wheel for pyrsistent: filename=pyrsistent-0.17.3-cp37-cp37m-macosx_10_7_x86_64.whl size=68988 sha256=73dbce981d4ff136e9a7f2ce7f6d9cb4d4062db375534ecad9d99d66324ade86\n",
      "  Stored in directory: /Users/johnsn27/Library/Caches/pip/wheels/a5/52/bf/71258a1d7b3c8cbe1ee53f9314c6f65f20385481eaee573cc5\n",
      "  Building wheel for pandocfilters (setup.py) ... \u001b[?25ldone\n",
      "\u001b[?25h  Created wheel for pandocfilters: filename=pandocfilters-1.4.3-py3-none-any.whl size=7991 sha256=3b14b236f21532c94e3f0b2c7bdf3b3e324645a1ec53b70fad6f7b19dbe3595a\n",
      "  Stored in directory: /Users/johnsn27/Library/Caches/pip/wheels/42/81/34/545dc2fbf0e9137811e901108d37fc04650e81d48f97078000\n",
      "Successfully built pyrsistent pandocfilters\n",
      "Installing collected packages: ipython-genutils, traitlets, pyrsistent, wcwidth, tornado, pyzmq, ptyprocess, parso, jupyter-core, jsonschema, webencodings, pygments, prompt-toolkit, pickleshare, pexpect, nest-asyncio, nbformat, jupyter-client, jedi, decorator, backcall, async-generator, appnope, testpath, pandocfilters, nbclient, mistune, jupyterlab-pygments, ipython, entrypoints, defusedxml, bleach, terminado, Send2Trash, prometheus-client, nbconvert, ipykernel, argon2-cffi, notebook, widgetsnbextension, jupyterlab-widgets, ipywidgets\n",
      "Successfully installed Send2Trash-1.5.0 appnope-0.1.2 argon2-cffi-20.1.0 async-generator-1.10 backcall-0.2.0 bleach-3.3.0 decorator-4.4.2 defusedxml-0.6.0 entrypoints-0.3 ipykernel-5.4.3 ipython-7.20.0 ipython-genutils-0.2.0 ipywidgets-7.6.3 jedi-0.18.0 jsonschema-3.2.0 jupyter-client-6.1.11 jupyter-core-4.7.1 jupyterlab-pygments-0.1.2 jupyterlab-widgets-1.0.0 mistune-0.8.4 nbclient-0.5.2 nbconvert-6.0.7 nbformat-5.1.2 nest-asyncio-1.5.1 notebook-6.2.0 pandocfilters-1.4.3 parso-0.8.1 pexpect-4.8.0 pickleshare-0.7.5 prometheus-client-0.9.0 prompt-toolkit-3.0.16 ptyprocess-0.7.0 pygments-2.7.4 pyrsistent-0.17.3 pyzmq-22.0.3 terminado-0.9.2 testpath-0.4.4 tornado-6.1 traitlets-5.0.5 wcwidth-0.2.5 webencodings-0.5.1 widgetsnbextension-3.5.1\n",
      "Network location: BBC Standard\n",
      "\u001b[37;40mnpm\u001b[0m \u001b[0m\u001b[30;43mWARN\u001b[0m \u001b[0m\u001b[35mnpm\u001b[0m npm does not support Node.js v14.12.0\n",
      "\u001b[0m\u001b[37;40mnpm\u001b[0m \u001b[0m\u001b[30;43mWARN\u001b[0m \u001b[0m\u001b[35mnpm\u001b[0m You should probably upgrade to a newer version of node as we\n",
      "\u001b[0m\u001b[37;40mnpm\u001b[0m \u001b[0m\u001b[30;43mWARN\u001b[0m \u001b[0m\u001b[35mnpm\u001b[0m can't make any promises that npm will work with this version.\n",
      "\u001b[0m\u001b[37;40mnpm\u001b[0m \u001b[0m\u001b[30;43mWARN\u001b[0m \u001b[0m\u001b[35mnpm\u001b[0m Supported releases of Node.js are the latest release of 4, 6, 7, 8, 9.\n",
      "\u001b[0m\u001b[37;40mnpm\u001b[0m \u001b[0m\u001b[30;43mWARN\u001b[0m \u001b[0m\u001b[35mnpm\u001b[0m You can find the latest version at https://nodejs.org/\n",
      "\u001b[0m\u001b[37;40mnpm\u001b[0m \u001b[0m\u001b[30;43mWARN\u001b[0m \u001b[0m\u001b[35mnpm\u001b[0m npm does not support Node.js v14.12.0\n",
      "\u001b[0m\u001b[37;40mnpm\u001b[0m \u001b[0m\u001b[30;43mWARN\u001b[0m \u001b[0m\u001b[35mnpm\u001b[0m You should probably upgrade to a newer version of node as we\n",
      "\u001b[0m\u001b[37;40mnpm\u001b[0m \u001b[0m\u001b[30;43mWARN\u001b[0m \u001b[0m\u001b[35mnpm\u001b[0m can't make any promises that npm will work with this version.\n",
      "\u001b[0m\u001b[37;40mnpm\u001b[0m \u001b[0m\u001b[30;43mWARN\u001b[0m \u001b[0m\u001b[35mnpm\u001b[0m Supported releases of Node.js are the latest release of 4, 6, 7, 8, 9.\n",
      "\u001b[0m\u001b[37;40mnpm\u001b[0m \u001b[0m\u001b[30;43mWARN\u001b[0m \u001b[0m\u001b[35mnpm\u001b[0m You can find the latest version at https://nodejs.org/\n",
      "\u001b[0mEnabling notebook extension jupyter-js-widgets/extension...\n",
      "      - Validating: \u001b[32mOK\u001b[0m\n"
     ]
    }
   ],
   "source": [
    "!python -m pip install --upgrade pip\n",
    "!python -m pip install ipywidgets\n",
    "!python -m jupyter nbextension enable --py widgetsnbextension --sys-prefix"
   ]
  },
  {
   "cell_type": "markdown",
   "metadata": {},
   "source": [
    "# Caesar Cipher"
   ]
  },
  {
   "cell_type": "markdown",
   "metadata": {},
   "source": [
    "** NOTE: as we mentioned in the class, all of the historical ciphers are ridiculously simply insecure. They are only analysed to review the basic concepts and develop intuition. ** \n",
    "\n",
    "Caesar Cipher is a a toy example of a *symmetric key* cryptosystem. The idea is very simple: Shift each letter of the plaintext by a secret value (forward if positive, backward if negative). This shift value is the secret \"key\". Hence, not surprisingly, Caesar cipher is also known as the *shift cipher*. Since plaintext units are simply replaced with a plaintext symbol, Caesar Cipher is an example of *substitution ciphers*. More specifically, since a fixed substitution is used for each alphabet letter of the plaintext, it is an example of a \"*mono-alphabetic*\" substitution cipher. \n",
    "\n",
    "\n",
    "An encryption process can be as follows:\n",
    "\n",
    "- take each letter of the plaintext at a time;  \n",
    "- find its order number in the alphabet (A is 0, B is 1, ..., Z is 25);\n",
    "- add the value of the key to the number;\n",
    "- make sure the resulting number is somewhere between 0 and 25 (why? and how?);\n",
    "- replace that plaintext letter with a letter corresponding to the new order number.\n",
    "\n",
    "The decryption is simply shifting back the letters of the ciphertext to retrieve the plaintext:\n",
    "\n",
    "- take each letter of the ciphertext;\n",
    "- find its order number in the alphabet;\n",
    "- subtract the value of the key from it;\n",
    "- make sure the resulting number is somewhere between 0 and 25 (again, why? and how?);\n",
    "- replace that ciphertext letter with a letter corresponding to this new order number.\n",
    "\n",
    "\n",
    "This should be trivially obvious why this is a case of \"symmetric key\" cryptosystem.  \n",
    "\n",
    "Note: \"Cipher\" is another name for a cryptosystem, i.e., an encryption/decryption scheme. You also may hear \"encipher\" and \"decipher\" to refer to \"encryption\" and \"decryption\". \n",
    "Also note that the plaintext may be referred to as the \"message\"."
   ]
  },
  {
   "cell_type": "markdown",
   "metadata": {},
   "source": [
    "## Implementation of the encryption:\n",
    "The following python code is a simple implementation of the Caesar encryption. Study it, run it (*Shift+Enter*) and try with different input arguments (in the GUI). Then proceed to answering the following questions. "
   ]
  },
  {
   "cell_type": "code",
   "execution_count": 24,
   "metadata": {},
   "outputs": [
    {
     "name": "stdout",
     "output_type": "stream",
     "text": [
      "Don't know how to reset  #, please run `%reset?` for details\n",
      "Don't know how to reset  (force-)resets, please run `%reset?` for details\n",
      "Don't know how to reset  the, please run `%reset?` for details\n",
      "Don't know how to reset  variables, please run `%reset?` for details\n",
      "Don't know how to reset  (clears, please run `%reset?` for details\n",
      "Don't know how to reset  the, please run `%reset?` for details\n",
      "Don't know how to reset  variables,, please run `%reset?` for details\n",
      "Don't know how to reset  function, please run `%reset?` for details\n",
      "Don't know how to reset  definitions,, please run `%reset?` for details\n",
      "Don't know how to reset  etc.), please run `%reset?` for details\n"
     ]
    },
    {
     "data": {
      "application/vnd.jupyter.widget-view+json": {
       "model_id": "05f121524cdb4ca9a4251ba9cca6882d",
       "version_major": 2,
       "version_minor": 0
      },
      "text/plain": [
       "VBox(children=(Label(value='Caesar Cipher: Encryption'), Text(value='Hello, World!', description='Plaintext:',…"
      ]
     },
     "metadata": {},
     "output_type": "display_data"
    },
    {
     "data": {
      "application/vnd.jupyter.widget-view+json": {
       "model_id": "f979d066f143476d924d712d7bda9509",
       "version_major": 2,
       "version_minor": 0
      },
      "text/plain": [
       "Output()"
      ]
     },
     "metadata": {},
     "output_type": "display_data"
    }
   ],
   "source": [
    "%reset -f # (force-)resets the variables (clears the variables, function definitions, etc.)\n",
    "import ipywidgets as widgets\n",
    "\n",
    "# first, we need a dictionary that maps the plaintext letters to their order number in the alphabet:\n",
    "Letter_to_Integer = {'A': 0,\n",
    "                     'B': 1,\n",
    "                     'C': 2,\n",
    "                     'D': 3,\n",
    "                     'E': 4,\n",
    "                     'F': 5,\n",
    "                     'G': 6,\n",
    "                     'H': 7,\n",
    "                     'I': 8,\n",
    "                     'J': 9,\n",
    "                     'K': 10,\n",
    "                     'L': 11,\n",
    "                     'M': 12,\n",
    "                     'N': 13,\n",
    "                     'O': 14,\n",
    "                     'P': 15,\n",
    "                     'Q': 16,\n",
    "                     'R': 17,\n",
    "                     'S': 18,\n",
    "                     'T': 19,\n",
    "                     'U': 20,\n",
    "                     'V': 21,\n",
    "                     'W': 22,\n",
    "                     'X': 23,\n",
    "                     'Y': 24,\n",
    "                     'Z': 25}\n",
    "\n",
    "# we also need a dictionary to map back an order number to the letter:\n",
    "Integer_to_Letter = {0: 'A',\n",
    "                     1: 'B',\n",
    "                     2: 'C',\n",
    "                     3: 'D',\n",
    "                     4: 'E',\n",
    "                     5: 'F',\n",
    "                     6: 'G',\n",
    "                     7: 'H',\n",
    "                     8: 'I',\n",
    "                     9: 'J',\n",
    "                     10: 'K',\n",
    "                     11: 'L',\n",
    "                     12: 'M',\n",
    "                     13: 'N',\n",
    "                     14: 'O',\n",
    "                     15: 'P',\n",
    "                     16: 'Q',\n",
    "                     17: 'R',\n",
    "                     18: 'S',\n",
    "                     19: 'T',\n",
    "                     20: 'U',\n",
    "                     21: 'V',\n",
    "                     22: 'W',\n",
    "                     23: 'X',\n",
    "                     24: 'Y',\n",
    "                     25: 'Z'}\n",
    "\n",
    "# just a header message for our app!:\n",
    "header_message_encryption = widgets.Label(value='Caesar Cipher: Encryption')\n",
    "\n",
    "# a text input to get the plaintext message:\n",
    "input_plaintext = widgets.Text(\n",
    "    value = 'Hello, World!', # initial inside text\n",
    "    placeholder = 'Enter your message to be encrypted', # inside text when cleared \n",
    "    description = 'Plaintext:', # text before the text-input widget\n",
    "    disabled = False)\n",
    "\n",
    "# another text input to get the value of the encryption key:\n",
    "input_encryption_key = widgets.Text(\n",
    "    value = '3', \n",
    "    placeholder = 'Enter the Caesar encryption key', \n",
    "    description = 'Key:', \n",
    "    disabled = False)\n",
    "\n",
    "# the encryption function\n",
    "def Caesar_encrypt(plaintext, key):\n",
    "    \"\"\"An implementation of the encryption component of the \"Caesar-Cipher\".\n",
    "    The encryption is done by shifting each letter of the \"plaintext\" \n",
    "    by the \"key\" value in the alphabetic order.\n",
    "\n",
    "    Args:\n",
    "        plaintext: The plaintext message (a string).\n",
    "        key: The encryption key (an integer) \n",
    "\n",
    "    Returns:\n",
    "        The ciphertext (string). \n",
    "\n",
    "    \"\"\"\n",
    "    try:   \n",
    "        ciphertext = ''\n",
    "        key = int(key)\n",
    "        for letter in plaintext.upper():\n",
    "            if letter.isalpha(): \n",
    "                letter_number = Letter_to_Integer[letter]\n",
    "                new_letter_num =  (letter_number + key)%26\n",
    "                ciphertext += Integer_to_Letter[new_letter_num]\n",
    "            else: \n",
    "                num = int(letter)\n",
    "                num_letter = Integer_to_Letter[num]\n",
    "                letter_number = Letter_to_Integer[num_letter]\n",
    "                new_letter_num =  (letter_number + key)%26\n",
    "                ciphertext += Integer_to_Letter[new_letter_num]\n",
    "        \n",
    "        print('Ciphertext (encrypted message): {}'.format(ciphertext))\n",
    "        \n",
    "    except ValueError as e:\n",
    "        print(e) # print the specific error raised\n",
    "        # also print a hint message:\n",
    "        print('Note: the \"plaintext\" has to be a string, and the \"key\" an integer!') \n",
    "        \n",
    "ui = widgets.VBox([header_message_encryption, input_plaintext, input_encryption_key])\n",
    "out = widgets.interactive_output(Caesar_encrypt, {'plaintext': input_plaintext, 'key': input_encryption_key})\n",
    "display(ui, out)\n"
   ]
  },
  {
   "cell_type": "markdown",
   "metadata": {},
   "source": [
    "### Questions:"
   ]
  },
  {
   "cell_type": "markdown",
   "metadata": {},
   "source": [
    "- Q0: what is the role of percentage in the code line: *(letter_number + key)%26* ?\n",
    "\n",
    "Modulo"
   ]
  },
  {
   "cell_type": "code",
   "execution_count": 6,
   "metadata": {},
   "outputs": [
    {
     "name": "stdout",
     "output_type": "stream",
     "text": [
      "0\n",
      "1\n",
      "20\n",
      "25\n"
     ]
    }
   ],
   "source": [
    "print((25+1)%26)\n",
    "print((25+2)%26)\n",
    "print((0+20)%26)\n",
    "print((0-27)%26)"
   ]
  },
  {
   "cell_type": "markdown",
   "metadata": {},
   "source": [
    "- Q1: What do you expect to happen when the key value is entered as 0? what about 1? what about -1?\n",
    "When 0 is entered there is no shift as x%26 is x  \n",
    "When 1 is entered there is 1 shift as (x+1)%26 is (x+1)\n",
    "When -1 is entered there is a 25 shift"
   ]
  },
  {
   "cell_type": "markdown",
   "metadata": {},
   "source": [
    "- Q2: What do you expect to happen when the key value is entered as 20? What about 27? What about -27? Compare to your answer to Q1 and explain any similarity. \n",
    "\n",
    "When 20 is entered there is a 20 shift as (x+20)%26 is x+20\n",
    "When 27 is entered there is 1 shift as (x+27)%26 is the same as (x+1) as 26 divides into 27 once with 1 remainder\n",
    "When -27 is entered there is a 25 shift"
   ]
  },
  {
   "cell_type": "markdown",
   "metadata": {},
   "source": [
    "* Q3: What happens when you enter \"Hello, Universe!\" as the plaintext message? Fix the code!"
   ]
  },
  {
   "cell_type": "markdown",
   "metadata": {},
   "source": [
    "* Q4: The code as of now takes the shift value to be explicitly an integer, designating the number of shift. But often, the key is passed as the letter, and the order number of the letter is used as the key. Fix the code so that it can take either. So, whether the key value is entered as \"1\" or \"b\" or \"B\", the output should be the same. \n",
    "\n",
    "*Hint:* you may wish to use the *isalpha()* and *upper()* methods as is used in the code, and also the *\"Letter_to_Integer\"* dictionary."
   ]
  },
  {
   "cell_type": "markdown",
   "metadata": {},
   "source": [
    "## Implementation of the decryption:\n",
    "Now, an implementaion the decryption algorithm for our Caesar Cipher. \n",
    "As before: study the code and then answer the following questions. "
   ]
  },
  {
   "cell_type": "code",
   "execution_count": 25,
   "metadata": {},
   "outputs": [
    {
     "data": {
      "application/vnd.jupyter.widget-view+json": {
       "model_id": "e8bbde3410894ebfa7cfac16c74e9924",
       "version_major": 2,
       "version_minor": 0
      },
      "text/plain": [
       "VBox(children=(Label(value='Caesar Cipher: Decryption'), Text(value='KHOOR, ZRUOG!', description='Ciphertext:'…"
      ]
     },
     "metadata": {},
     "output_type": "display_data"
    },
    {
     "data": {
      "application/vnd.jupyter.widget-view+json": {
       "model_id": "c4c1c2881b0e4329a112d8444ba9b014",
       "version_major": 2,
       "version_minor": 0
      },
      "text/plain": [
       "Output()"
      ]
     },
     "metadata": {},
     "output_type": "display_data"
    }
   ],
   "source": [
    "# just a header message for our app!:\n",
    "header_message_decryption = widgets.Label(value='Caesar Cipher: Decryption')\n",
    "\n",
    "# a text input to get the ciphertext message:\n",
    "input_ciphertext = widgets.Text(\n",
    "    value = 'KHOOR, ZRUOG!', # initial inside text\n",
    "    placeholder = 'Enter your encrypted message to be decrypted', # inside text when cleared \n",
    "    description = 'Ciphertext:', # text before the text-input widget\n",
    "    disabled = False)\n",
    "\n",
    "# another text input to get the value of the decryption key:\n",
    "input_decryption_key = widgets.Text(\n",
    "    value = '3', \n",
    "    placeholder = 'Enter the Caesar decryption key', \n",
    "    description = 'Key:', \n",
    "    disabled = False)\n",
    "\n",
    "\n",
    "# the decryption function\n",
    "def Caesar_decrypt(ciphertext, key):\n",
    "    \"\"\"An implementation of the decryption component of the \"Caesar-Cipher\".\n",
    "    The decryption is done by shifting back each letter of the \"ciphertext\" \n",
    "    by the \"key\" value in the alphabetic order.\n",
    "\n",
    "    Args:\n",
    "        ciphertext: The ciphertext message (a string).\n",
    "        key: The decryption key (an integer) \n",
    "\n",
    "    Returns:\n",
    "        The plaintext (string). \n",
    "\n",
    "    \"\"\"\n",
    "    try:   \n",
    "        plaintext = ''\n",
    "        key = int(key)\n",
    "        for letter in ciphertext.upper():\n",
    "            if letter.isalpha(): \n",
    "                letter_number = Letter_to_Integer[letter]\n",
    "                new_letter_num =  (letter_number - key)%26\n",
    "                plaintext += Integer_to_Letter[new_letter_num]\n",
    "            else: \n",
    "                plaintext += letter\n",
    "        \n",
    "        print('Plaintext (decrypted message): {}'.format(plaintext))\n",
    "        \n",
    "    except ValueError as e:\n",
    "        print(e) # print the specific error raised\n",
    "        # also print a hint message:\n",
    "        print('Note: the ciphertext has to be a string, and the key an integer!') \n",
    "        \n",
    "ui = widgets.VBox([header_message_decryption, input_ciphertext, input_decryption_key])\n",
    "out = widgets.interactive_output(Caesar_decrypt, {'ciphertext': input_ciphertext, 'key': input_decryption_key})\n",
    "display(ui, out)"
   ]
  },
  {
   "cell_type": "markdown",
   "metadata": {},
   "source": [
    "### Questions:"
   ]
  },
  {
   "cell_type": "markdown",
   "metadata": {},
   "source": [
    "- Q0: You should notice that the decryption is not working properly. Fix it! \n",
    "\n",
    "*Hint:* should the code line *new_letter_num =  0* be edited?\n"
   ]
  },
  {
   "cell_type": "markdown",
   "metadata": {},
   "source": [
    "- Q1: Pass \"Hello, Universe!\" as the plaintext to the encryption function (the previous section) with an encryption key of your choice. Then pass the resulting ciphertext to the decryption function (copy paste it in the Ciphertext box above) and pass the same decryption key. What do you see? If you see any anomaly, fix it!\n",
    "*Hint:* investigate *Integer_to_Letter*."
   ]
  },
  {
   "cell_type": "markdown",
   "metadata": {},
   "source": [
    "- Q2: What happens if you try to decrypt a ciphertext with a different key than the key used for encryption?"
   ]
  },
  {
   "cell_type": "markdown",
   "metadata": {
    "collapsed": true
   },
   "source": [
    "## Breaking the cipher\n"
   ]
  },
  {
   "cell_type": "markdown",
   "metadata": {},
   "source": [
    "Recall that *breaking* a cryptosystem means getting the plaintext back from ciphertext without being given the decryption key. For Caesar-cipher, the key-space size is so small (what is it?) that an exhaustive search can be done even by hand! And of course, through code:"
   ]
  },
  {
   "cell_type": "code",
   "execution_count": 30,
   "metadata": {},
   "outputs": [
    {
     "name": "stdout",
     "output_type": "stream",
     "text": [
      "Enter your ciphertext to \"break\" it: AV IL VY UVA AV IL LPAOLY DHF PA PZ H JSPJOL\n",
      "key: 0\n",
      "Plaintext (decrypted message): AV IL VY UVA AV IL LPAOLY DHF PA PZ H JSPJOL\n",
      "key: 1\n",
      "Plaintext (decrypted message): ZU HK UX TUZ ZU HK KOZNKX CGE OZ OY G IROINK\n",
      "key: 2\n",
      "Plaintext (decrypted message): YT GJ TW STY YT GJ JNYMJW BFD NY NX F HQNHMJ\n",
      "key: 3\n",
      "Plaintext (decrypted message): XS FI SV RSX XS FI IMXLIV AEC MX MW E GPMGLI\n",
      "key: 4\n",
      "Plaintext (decrypted message): WR EH RU QRW WR EH HLWKHU ZDB LW LV D FOLFKH\n",
      "key: 5\n",
      "Plaintext (decrypted message): VQ DG QT PQV VQ DG GKVJGT YCA KV KU C ENKEJG\n",
      "key: 6\n",
      "Plaintext (decrypted message): UP CF PS OPU UP CF FJUIFS XBZ JU JT B DMJDIF\n",
      "key: 7\n",
      "Plaintext (decrypted message): TO BE OR NOT TO BE EITHER WAY IT IS A CLICHE\n",
      "key: 8\n",
      "Plaintext (decrypted message): SN AD NQ MNS SN AD DHSGDQ VZX HS HR Z BKHBGD\n",
      "key: 9\n",
      "Plaintext (decrypted message): RM ZC MP LMR RM ZC CGRFCP UYW GR GQ Y AJGAFC\n",
      "key: 10\n",
      "Plaintext (decrypted message): QL YB LO KLQ QL YB BFQEBO TXV FQ FP X ZIFZEB\n",
      "key: 11\n",
      "Plaintext (decrypted message): PK XA KN JKP PK XA AEPDAN SWU EP EO W YHEYDA\n",
      "key: 12\n",
      "Plaintext (decrypted message): OJ WZ JM IJO OJ WZ ZDOCZM RVT DO DN V XGDXCZ\n",
      "key: 13\n",
      "Plaintext (decrypted message): NI VY IL HIN NI VY YCNBYL QUS CN CM U WFCWBY\n",
      "key: 14\n",
      "Plaintext (decrypted message): MH UX HK GHM MH UX XBMAXK PTR BM BL T VEBVAX\n",
      "key: 15\n",
      "Plaintext (decrypted message): LG TW GJ FGL LG TW WALZWJ OSQ AL AK S UDAUZW\n",
      "key: 16\n",
      "Plaintext (decrypted message): KF SV FI EFK KF SV VZKYVI NRP ZK ZJ R TCZTYV\n",
      "key: 17\n",
      "Plaintext (decrypted message): JE RU EH DEJ JE RU UYJXUH MQO YJ YI Q SBYSXU\n",
      "key: 18\n",
      "Plaintext (decrypted message): ID QT DG CDI ID QT TXIWTG LPN XI XH P RAXRWT\n",
      "key: 19\n",
      "Plaintext (decrypted message): HC PS CF BCH HC PS SWHVSF KOM WH WG O QZWQVS\n",
      "key: 20\n",
      "Plaintext (decrypted message): GB OR BE ABG GB OR RVGURE JNL VG VF N PYVPUR\n",
      "key: 21\n",
      "Plaintext (decrypted message): FA NQ AD ZAF FA NQ QUFTQD IMK UF UE M OXUOTQ\n",
      "key: 22\n",
      "Plaintext (decrypted message): EZ MP ZC YZE EZ MP PTESPC HLJ TE TD L NWTNSP\n",
      "key: 23\n",
      "Plaintext (decrypted message): DY LO YB XYD DY LO OSDROB GKI SD SC K MVSMRO\n",
      "key: 24\n",
      "Plaintext (decrypted message): CX KN XA WXC CX KN NRCQNA FJH RC RB J LURLQN\n",
      "key: 25\n",
      "Plaintext (decrypted message): BW JM WZ VWB BW JM MQBPMZ EIG QB QA I KTQKPM\n"
     ]
    }
   ],
   "source": [
    "def break_Caesar_cipher(ciphertext):\n",
    "    \"\"\"An exhaustive key search (brute-force) attack on the \"Caesar-Cipher\".\n",
    "    Args:\n",
    "        ciphertext: The ciphertext message (a string). \n",
    "\n",
    "    Returns:\n",
    "        Nothing. Just prints decrypted messages on the screen. \n",
    "        It then relies on a human to select the candidate key.\n",
    "\n",
    "    \"\"\"        \n",
    "    \n",
    "    for key in range(26):\n",
    "        print('key: {}'.format(key))\n",
    "        Caesar_decrypt(ciphertext, key)\n",
    "        \n",
    "    \n",
    "ciphertext = input('Enter your ciphertext to \"break\" it: ')\n",
    "break_Caesar_cipher(ciphertext)"
   ]
  },
  {
   "cell_type": "markdown",
   "metadata": {},
   "source": [
    "- Q0: Eve has intercepted the following ciphertexts (on different occasions!). Help her 'break' them! \n",
    " - JBK TFIIFKDIV YBIFBSB TEXQ QEBV TFPE\n",
    " - AJSN ANIN ANHN\n",
    " - AV IL VY UVA AV IL LPAOLY DHF PA PZ H JSPJOL\n",
    " - TQXXA FA VMEAZ UEMMOE\n"
   ]
  },
  {
   "cell_type": "markdown",
   "metadata": {},
   "source": [
    "- Q1: Try to the answer the above question for the following ciphertexts:\n",
    " - LYL\n",
    " - QN\n",
    " \n",
    " Why are these more challenging than previous cases?"
   ]
  },
  {
   "cell_type": "markdown",
   "metadata": {},
   "source": [
    "- Q2: Try to answer the above question for the following ciphertext:\n",
    " - T\n"
   ]
  },
  {
   "cell_type": "markdown",
   "metadata": {},
   "source": [
    "- Q3: Our implementation as above is not complete: it relies on a human to sift through the outputs and judge potential candidate keys from plaintexts. Can you think of way(s) to automatize this process so no human intervention is necessary? \n",
    "\n",
    "Sift through each key then check the output against a dictionary of words "
   ]
  }
 ],
 "metadata": {
  "kernelspec": {
   "display_name": "Python 3",
   "language": "python",
   "name": "python3"
  },
  "language_info": {
   "codemirror_mode": {
    "name": "ipython",
    "version": 3
   },
   "file_extension": ".py",
   "mimetype": "text/x-python",
   "name": "python",
   "nbconvert_exporter": "python",
   "pygments_lexer": "ipython3",
   "version": "3.8.5"
  }
 },
 "nbformat": 4,
 "nbformat_minor": 2
}
