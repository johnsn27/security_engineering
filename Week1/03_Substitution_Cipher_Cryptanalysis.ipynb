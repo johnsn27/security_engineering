{
 "cells": [
  {
   "cell_type": "markdown",
   "metadata": {},
   "source": [
    "# Simple Substitution Cipher"
   ]
  },
  {
   "cell_type": "markdown",
   "metadata": {},
   "source": [
    "In the previous task, we got familiar with the simple shift cipher, a.k.a. Caesar cipher. We saw while it could be secure against pre-school kids (and you shouldn't even bet on that much), it was laughably insecure! The main culprit was its small key-space size (of just 26): it allowed an exhaustive search (a brute force attack) with pen and paper. \n",
    "\n",
    "However, one can argue, we didn't have to shift every alphabet by the same amount: if the idea is to replace (substitute) the letters of the plaintext, why not letting substitution to be free for each letter. This is the idea behind another historical cipher called **(Simple) Substitution Cipher**.\n",
    "\n",
    "\n",
    "As an example, if in Caesar cipher, `A` was to be replaced by `F` (so shifting forward by 5), then it forced `B` to be replaced by `G`, `C` be replaced by `H`, and so on. In contrast, in substitution cipher, `A` can be replaced by `F`, then `B` can be replaced by any letter (of course, other than `F` -- **why?**) say `X`, then `C` can be replaced by any letter (other than `F` or `X` -- **why?**), and so on. The substitution mapping is the secret key, which should be known to both Alice and Bob, but no-one else. \n",
    "\n",
    "As we will see in this lab task, this cipher, although seems promising against Caesar, is still trivially insecure! However, interestingly, the reason is **NOT** because of a small key-space size. Enough said by me, the rest should be your thinking!\n",
    "\n"
   ]
  },
  {
   "cell_type": "markdown",
   "metadata": {},
   "source": [
    "- __Q0:__ The key for the simple substitution cipher can be represented by a _permutation_ (i.e., a specific arrangement) of the alphabet letters, e.g. _UCWOJKFANEDBSXGVQZMIRTYHPL_ to mean `A` -> `U`, `B` ->`C`, and so on. Now manually encipher (encrypt) the plaintext `Hi!` using substitution cipher with this key.\n",
    "\n",
    "_Note: assume that all punctuation and even spaces are first removed from the plaintext and all letters are uppercased, so first pre-process the plaintext to `HI` and then apply the cipher._ "
   ]
  },
  {
   "cell_type": "markdown",
   "metadata": {},
   "source": [
    "- __Answer:__"
   ]
  },
  {
   "cell_type": "markdown",
   "metadata": {},
   "source": [
    "- __Q1:__ What is the **key space size** of the simple substitution cipher? \n",
    "\n",
    "_Hint: it is the number of ways you can arrange the 26 alphabet letters, i.e., the number of permutations of 26 items_"
   ]
  },
  {
   "cell_type": "markdown",
   "metadata": {},
   "source": [
    "- __Answer:__"
   ]
  },
  {
   "cell_type": "markdown",
   "metadata": {},
   "source": [
    "- __Q2:__ **(Optional)** Estimate how long it will take do launch a brute-force attack on simple substitution on a typical computer (like your ITL machine).\n",
    "\n",
    "_Hint: it will be in the ballpark of a few **Billions of years**! For reference, the age of the earth is 4.9 Billion years!_"
   ]
  },
  {
   "cell_type": "markdown",
   "metadata": {},
   "source": [
    "- __Answer:__ "
   ]
  },
  {
   "cell_type": "markdown",
   "metadata": {},
   "source": [
    "## Cryptanalysis of substitution cipher "
   ]
  },
  {
   "cell_type": "markdown",
   "metadata": {},
   "source": [
    "Even if you didn't answer the previous question, you should trust the hint! So a brute-force is out of question: the key space is too large. However, does it mean this cipher is secure? \n",
    "\n",
    "The answer is no: a simple cryptanalysis technique called **frequency analysis** can break this cipher, so long as the cipher-text is not too short. To get the idea, let's make a few observations. \n",
    "\n",
    "Any context, like texts in human languages, including English, have patterns:\n",
    "\n",
    "- Not all letters occur with the same frequency/probability, e.g., in English, letter `e` is far more likely to be in a word than letter `z`. \n",
    "- Not all two consecutive letters, called **bigrams**, occur with the same frequency, e.g., in English, the bigram `th` is more frequent than the  bigram `jk`.\n",
    "- Similar observations hold for **tri-grams**, **quad-grams**, and so on.\n",
    "\n",
    "The following figure shows the relative frequency of letters in the English language (ref: http://practicalcryptography.com/ciphers/simple-substitution-cipher/ ):\n",
    "\n",
    "![Image: English Letter Frequencies](https://upload.wikimedia.org/wikipedia/commons/b/b0/English_letter_frequency_%28frequency%29.svg \"English Letter Frequencies\")"
   ]
  },
  {
   "cell_type": "markdown",
   "metadata": {},
   "source": [
    "- __Q3:__ Consider the key in Q0: _UCWOJKFANEDBSXGVQZMIRTYHPL_. If we encrypt a long ciphertext using simple substitution using this key, what would be the most frequent letter in the ciphertext? What is the second most frequent letter to expect? \n",
    "\n",
    "_Hint: use the provided figure above_"
   ]
  },
  {
   "cell_type": "markdown",
   "metadata": {},
   "source": [
    "- __Answer:__ "
   ]
  },
  {
   "cell_type": "markdown",
   "metadata": {},
   "source": [
    "- __Q4:__ Same as above, if the most frequent bigram in English is `th`, what would be the most frequent bigram to expect in the ciphertext? "
   ]
  },
  {
   "cell_type": "markdown",
   "metadata": {},
   "source": [
    "- __Answer:__ "
   ]
  },
  {
   "cell_type": "markdown",
   "metadata": {},
   "source": [
    "- __Q5:__ Given these observations, formulate a practical algorithm to break the simple substitution cipher (this is an example of *cryptanalysis*)"
   ]
  },
  {
   "cell_type": "markdown",
   "metadata": {},
   "source": [
    "- __Answer:__ "
   ]
  },
  {
   "cell_type": "markdown",
   "metadata": {},
   "source": [
    "There is no single answer to the above question. One approach is implemented by the authors of this website: http://practicalcryptography.com/cryptanalysis/stochastic-searching/cryptanalysis-simple-substitution-cipher/\n",
    "\n",
    "In what follows, I provide a slight adaptation of their code. The behaviour of the code should be self-explanatory, but do ask for hint if you need:"
   ]
  },
  {
   "cell_type": "markdown",
   "metadata": {},
   "source": [
    "### A Fitness measure based on statistics of the n-grams:"
   ]
  },
  {
   "cell_type": "code",
   "execution_count": null,
   "metadata": {},
   "outputs": [],
   "source": [
    "from math import log10\n",
    "\n",
    "class ngram_score:\n",
    "    def __init__(self,ngramfile,sep=' '):\n",
    "        ''' load a file containing ngrams and counts, calculate log probabilities '''\n",
    "        self.ngrams = {}\n",
    "        with open(ngramfile,'r') as file:\n",
    "            for line in file:\n",
    "                key,count = line.split(sep) \n",
    "                self.ngrams[key] = int(count)\n",
    "        self.L = len(key)\n",
    "        self.N = sum(self.ngrams.values())\n",
    "        #calculate log probabilities\n",
    "        for key in self.ngrams.keys():\n",
    "            self.ngrams[key] = log10(float(self.ngrams[key])/self.N)\n",
    "        self.floor = log10(0.01/self.N)\n",
    "\n",
    "    def score(self,text):\n",
    "        ''' compute the score of text '''\n",
    "        score = 0\n",
    "        for i in range(len(text)-self.L+1):\n",
    "            if text[i:i+self.L] in self.ngrams: \n",
    "                score += self.ngrams[text[i:i+self.L]]\n",
    "            else: \n",
    "                score += self.floor          \n",
    "        return score\n",
    "print('done!')    "
   ]
  },
  {
   "cell_type": "markdown",
   "metadata": {},
   "source": [
    "Make sure you have downloaded the `quadgrams.txt` file from QM+ and put it in the same folder as this notebook. Then:"
   ]
  },
  {
   "cell_type": "code",
   "execution_count": null,
   "metadata": {},
   "outputs": [],
   "source": [
    "fitness = ngram_score('quadgrams.txt')\n",
    "print(fitness.score('HELLOWORLD'))"
   ]
  },
  {
   "cell_type": "markdown",
   "metadata": {},
   "source": [
    "An implementation of some toy-example ciphers is provided in a package called `pycipher`. \n",
    "In particular, take a quick look at the source-code of its `SimpleSubstitution` cipher, available at:\n",
    "https://github.com/jameslyons/pycipher/blob/master/pycipher/simplesubstitution.py\n",
    "which we will use."
   ]
  },
  {
   "cell_type": "code",
   "execution_count": null,
   "metadata": {},
   "outputs": [],
   "source": [
    "!pip install pycipher"
   ]
  },
  {
   "cell_type": "markdown",
   "metadata": {},
   "source": [
    "### Encryption:"
   ]
  },
  {
   "cell_type": "code",
   "execution_count": null,
   "metadata": {},
   "outputs": [],
   "source": [
    "# import ipywidgets as widgets\n",
    "from ipywidgets import Box, Layout, interactive_output, Label, Textarea, Text\n",
    "from pycipher import SimpleSubstitution as SimpleSub\n",
    "import random\n",
    "\n",
    "def Substitution_encrypt(plaintext, key):\n",
    "    try:   \n",
    "        ciphertext = SimpleSub(key).encipher(plaintext)          \n",
    "        print('Ciphertext (encrypted message):\\n\\n{}'.format(ciphertext))\n",
    "    except (ValueError, AssertionError) as e:\n",
    "        print(e) # print the specific error raised\n",
    "        # also print a hint message:\n",
    "        print('Note: the \"plaintext\" has to be a string, and the \"key\" a shuffling of A...Z!') \n",
    "\n",
    "\n",
    "# just a header message for our app!:\n",
    "header_message_encryption = Label(value='Simple Substitution Cipher: Encryption')\n",
    "\n",
    "# a text input to get the plaintext message:\n",
    "input_plaintext = Textarea(\n",
    "    value = '''Paste your text here!''', # initial inside text\n",
    "    placeholder = 'Enter your message to be encrypted', # inside text when cleared \n",
    "    description = 'Plaintext:', # text before the text-input widget\n",
    "    disabled = False,\n",
    "    layout=Layout(width='auto')\n",
    ")\n",
    "\n",
    "# another text input to get the value of the encryption key:\n",
    "input_encryption_key = Text(\n",
    "    value = ''.join(random.sample('ABCDEFGHIJKLMNOPQRSTUVWXYZ',26)), \n",
    "    placeholder = 'Enter the Substitution encryption key', \n",
    "    description = 'Key:',\n",
    "    layout=Layout(width='35%'),\n",
    "    disabled = False)\n",
    "\n",
    "# ui = widgets.VBox([header_message_encryption, input_plaintext, input_encryption_key])\n",
    "ui = Box([input_encryption_key,input_plaintext], layout=Layout(\n",
    "    display='flex',\n",
    "    flex_flow='column',\n",
    "    justify_content='space-between',\n",
    "    width='auto',\n",
    "))\n",
    "\n",
    "out = interactive_output(Substitution_encrypt, {'plaintext': input_plaintext, 'key': input_encryption_key})\n",
    "display(ui,out)"
   ]
  },
  {
   "cell_type": "markdown",
   "metadata": {},
   "source": [
    "### Breaking the cipher:"
   ]
  },
  {
   "cell_type": "markdown",
   "metadata": {},
   "source": [
    "__Q6:__ Now the fun part: use the code to break this ciphertext. Then try with shorter portions of the cipher-text. It should become more difficult. Why?"
   ]
  },
  {
   "cell_type": "code",
   "execution_count": null,
   "metadata": {},
   "outputs": [],
   "source": [
    "import ipywidgets as widgets\n",
    "from IPython.display import display\n",
    "from pycipher import SimpleSubstitution as SimpleSub\n",
    "import random\n",
    "import re\n",
    "fitness = ngram_score('quadgrams.txt') # load our quadgram statistics\n",
    "\n",
    "input_ciphertext = Textarea(\n",
    "    value = re.sub('[^A-Z]','','''PBVEQTCKALVEZCLXELVXPOTCKRPVTXPTVXUTOQZPVTXELRKOVPGRTILOVXYZDVCLOZXYLTUUTKXCZPVT\n",
    "    XZARTXRLMPEZXCMOZRPVRZAPLRBXVFKLEEMLRVUVRZAAGPBLQTCKALRZXSLSOTWLXVXPTPDTMZOPEPBLUVOEPMZOPRTILOEPBLSZEVRETUZMMA\n",
    "    VLCROGMPTYOZMBGVXRAKCVXYEGQQLPOVRZXCMKSAVRWLGLXROGMPVTXCZPZVXPLYOVPGCVYVPZAEVYXZPKOLESZEVRROGMPTYOZMBVRMOTPTRT\n",
    "    AEWLGQZXZYLQLXPZXCETQLRZELEPKCVLEXTPZSAGPAEZXCDVUVELRKOVPGPBLELRTXCMZOPUTRKELETXPBLXTXROGMPTYOZMBVRZEMLRPETUEL\n",
    "    RKOVPGSZEVRETUZKPBTOVJZPVTXZXCZRRLEERTXPOTAVEVXPOTCKRLCZATXYDVPBLNZQMALETUBTDPBLGZOLZRBVLILCVXTEZXCZMMAVRZPVTX\n",
    "    EPBLXPTMVREOLAZPLCPTXLPDTOWELRKOVPGVXRAKCVXYUVOLDZAAEZXCVXPOKEVTXCLPLRPVTXMOLILXPVTXEGEPLQEZOLCVERKEELCPTMVREV\n",
    "    XETUPDZOLZXCDLSELRKOVPGVXRAKCVXYLNZQMALTUETQLRTQQTXIKAXLOZSVAVPVLEZXCPBLVORTKXPLOQLZEKOLEZOLVXPOTCKRLCXLNPPBLQ\n",
    "    TCKALUVXVEBLEDVPBZXTILOIVLDTURGSLOELRKOVPGQZXZYLQLXPZXCSLEPMOZRPVRLE'''), # initial inside text\n",
    "    placeholder = 'Enter your ciphertext to be broken!', # inside text when cleared \n",
    "    description = 'Ciphertext:', # text before the text-input widget\n",
    "    disabled = False,\n",
    "    layout=Layout(width='auto',height='400px', min_height='400px')\n",
    ")\n",
    "\n",
    "    \n",
    "def substitution_cipher_break(ciphertext):\n",
    "    \n",
    "    ciphertext = re.sub('[^A-Z]','',ciphertext.upper())\n",
    "\n",
    "    maxkey = list('ABCDEFGHIJKLMNOPQRSTUVWXYZ')\n",
    "    maxscore = -99e9\n",
    "    parentscore,parentkey = maxscore,maxkey[:]\n",
    "    print(\"Substitution Cipher solver, you may have to wait several iterations for the correct result.\")\n",
    "    # keep going until we reach maximum iteration or are killed by the user (Interrupt the kernel)\n",
    "    i = 0\n",
    "    max_iterations = 5\n",
    "    print(\"maximum iterations: {}\".format(max_iterations))\n",
    "    while i<max_iterations:\n",
    "        i = i+1\n",
    "        random.shuffle(parentkey)\n",
    "        deciphered = SimpleSub(parentkey).decipher(ciphertext)\n",
    "        parentscore = fitness.score(deciphered)\n",
    "        count = 0\n",
    "        while count < 1000:\n",
    "            a = random.randint(0,25)\n",
    "            b = random.randint(0,25)\n",
    "            child = parentkey[:]\n",
    "            # swap two characters in the child\n",
    "            child[a],child[b] = child[b],child[a]\n",
    "            deciphered = SimpleSub(child).decipher(ciphertext)\n",
    "            score = fitness.score(deciphered)\n",
    "            # if the child was better, replace the parent with it\n",
    "            if score > parentscore:\n",
    "                parentscore = score\n",
    "                parentkey = child[:]\n",
    "                count = 0\n",
    "            count = count+1\n",
    "        # keep track of best score seen so far\n",
    "        if parentscore>maxscore:\n",
    "            maxscore,maxkey = parentscore,parentkey[:]\n",
    "            print('\\nbest score so far:',maxscore,'on iteration',i)\n",
    "            ss = SimpleSub(maxkey)\n",
    "            print ('    best key: '+''.join(maxkey))\n",
    "            print ('    plaintext: '+ss.decipher(ciphertext))\n",
    "\n",
    "    print('maximum iterations reached!')\n",
    "\n",
    "button = widgets.Button(description=\"Initiate Cryptanalysis!\")\n",
    "def on_button_clicked(b):\n",
    "    ciphertext = input_ciphertext.value\n",
    "    substitution_cipher_break(ciphertext)\n",
    "\n",
    "button.on_click(on_button_clicked)\n",
    "display(input_ciphertext)\n",
    "display(button)"
   ]
  },
  {
   "cell_type": "markdown",
   "metadata": {},
   "source": [
    "Now write an essay of 10 pages on each of the following statements: \n",
    "\n",
    "**A large key-space size is necessary for the security of a cryptosystem, but it is not sufficient.** \n",
    "\n",
    "**The cipher should destroy the statistical patterns of the plaintext.**\n",
    "\n",
    "**A letter of the plaintext should not always be mapped to the same letter of ciphertext even when the key is fixed**\n",
    "\n",
    "Of course _writing the essay_ instruction was a joke (meh), I just hope you are now clear on the reason behind them. No time to lose: move on to the next task!  "
   ]
  },
  {
   "cell_type": "code",
   "execution_count": null,
   "metadata": {},
   "outputs": [],
   "source": []
  }
 ],
 "metadata": {
  "kernelspec": {
   "display_name": "Python 3",
   "language": "python",
   "name": "python3"
  },
  "language_info": {
   "codemirror_mode": {
    "name": "ipython",
    "version": 3
   },
   "file_extension": ".py",
   "mimetype": "text/x-python",
   "name": "python",
   "nbconvert_exporter": "python",
   "pygments_lexer": "ipython3",
   "version": "3.7.3"
  }
 },
 "nbformat": 4,
 "nbformat_minor": 2
}
