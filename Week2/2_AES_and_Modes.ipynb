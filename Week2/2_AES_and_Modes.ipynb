{
 "cells": [
  {
   "cell_type": "code",
   "execution_count": null,
   "metadata": {},
   "outputs": [],
   "source": [
    "# !which python\n",
    "# import sys\n",
    "# print(sys.executable)\n",
    "\n",
    "!python -m pip install --upgrade pip\n",
    "# !python -m pip uninstall pycrypto --yes\n",
    "!python -m pip install pycryptodome\n",
    "# !python -m easy_install pycryptodome  # uncomment this if the above pip install did not work! \n",
    "!python -m pip install Pillow\n",
    "!python -m jupyter nbextension enable --py widgetsnbextension --sys-prefix\n",
    "print('Ready to Go!')"
   ]
  },
  {
   "cell_type": "markdown",
   "metadata": {},
   "source": [
    "# Symmetric Key Encryption: AES\n",
    "AES, standing for *__A__dvanced __E__ncryption __S__ystem*, is today's (2010's!) standard symmetric-key cipher. \n",
    "\n",
    "<div class=\"alert alert-block alert-info\">*Recall:* cipher == cryptosystem == a suite of cryptographic algorithms e.g. encryption/decryption achieving a security service, here: confidentiality.</div>\n",
    "\n",
    "This set of exercises is to get you familiar with AES, some of its properties, including modes of operation and **see (literally)** how dangerous it is if used wrongly! "
   ]
  },
  {
   "cell_type": "markdown",
   "metadata": {},
   "source": [
    "### AES Initial Questions\n",
    "\n",
    " - __Q0:__ As you may recall (from the book, of course!), AES won a public competition by NIST to become the standard symmetric cipher in 2000. Visit the __[competition website](https://competitions.cr.yp.to/aes.html)__ and find out what were the merits of selection and the competitors.  \n",
    " \n",
    " - __Q1:__ what is the block size of AES (in terms of bits and bytes) \n",
    " \n",
    " - __Q2:__ what is the possible key-lengths of AES? (in terms of bits and bytes)\n",
    " \n",
    " - __Q3:__ compared to DES, how many times longer does a brute-force attack take on AES even when the shortest key-length of AES is used?\n",
    " \n",
    " - __Q4:__ name the 5 common modes of operation of AES.\n",
    " \n",
    " - __Q5:__ To give you the confidence that we are indeed in the realm of current standards of the day, find out the key-length and mode of operation that the following websites use:\n",
    "  - https://www.google.co.uk\n",
    "  - https://www.nwolb.com\n",
    "  - https://www.security.hsbc.co.uk\n",
    "  - https://bank.barclays.co.uk\n",
    "  - a website of your choice!\n",
    "  \n",
    " *Hint: you can simply use your browser for this exercise. For example, in Firefox, click on the green lock appearing next to the link, and then click on \"more information\". In chrome, you can find such information from the developer tools (DevTool), e.g. by using the shortkey `Ctrl+Shift+I`. Screenshots are provided to you through QM+:*\n",
    " ![firefox snapshot](firefox_example.png)\n",
    " ![chrome snapshot](chrome_example.png)"
   ]
  },
  {
   "cell_type": "markdown",
   "metadata": {},
   "source": [
    "## Dangers of ECB\n",
    "You should notice that one of the operation modes of AES is nowhere to be found: ECB (if you can find it used for confidentiality service of a website, bring it to my attention for a bonus point!). In what follows, hopefully, we will **see** why! (can you guess?)\n",
    "\n",
    "We will encrypt a plaintext, which is an image. Note: (of course) plaintext does not mean text: all data in our information systems are just zeros and ones, audio, video, documents, code, anything. Again, of course! So unlike the \"historical\" ciphers, any modern cipher should be able to take any bytes as input, irrespective of what it represents).  "
   ]
  },
  {
   "cell_type": "code",
   "execution_count": null,
   "metadata": {},
   "outputs": [],
   "source": [
    "%reset -f\n",
    "from IPython.display import display\n",
    "import PIL.Image\n",
    "from Crypto.Cipher import AES\n",
    "import ipywidgets as widgets\n",
    "\n",
    "im = PIL.Image.open('plaintext.ppm')\n",
    "display(im)\n",
    "\n",
    "with open('plaintext.ppm','rb') as inputfilehandle:\n",
    "    header = inputfilehandle.read(54)\n",
    "    body = inputfilehandle.read()\n",
    "\n",
    "# key\n",
    "input_key = widgets.Text(\n",
    "    value = '0', # initial inside text\n",
    "    placeholder = 'Enter AES key (in hex)', # inside text when cleared \n",
    "    description = 'AES Key (in hex):', # text before the text-input widget\n",
    "    style = {'description_width': 'initial'})\n",
    "\n",
    "def aes_encrypt(key):\n",
    "    \n",
    "    try:\n",
    "        key = bytes.fromhex(key)\n",
    "        MY_AES_ECB_CIPHER = AES.new(key, AES.MODE_ECB)\n",
    "        body_enc = MY_AES_ECB_CIPHER.encrypt(body)\n",
    "        ciphertext = header+body_enc\n",
    "        with open('ciphertext.ppm','wb') as outputfilehandle:\n",
    "            outputfilehandle.write(ciphertext)\n",
    "        im_enc = PIL.Image.open('ciphertext.ppm')\n",
    "        display(im_enc)\n",
    "    except ValueError as e:\n",
    "        print(e) # print the specific error raised\n",
    "    except Exception as err:\n",
    "        print(err)\n",
    "        raise\n",
    "        \n",
    "out = widgets.interactive_output(aes_encrypt, {'key': input_key})\n",
    "display(input_key, out)"
   ]
  },
  {
   "cell_type": "markdown",
   "metadata": {},
   "source": [
    " - __Q0:__ Pass a valid (HEX) key for the 128-bit key length. \n",
    " \n",
    " - __Q1:__ Do you see the ciphertext? Explain why confidentiality (that is the service that encryption should have provided) visibly fails!\n",
    " \n",
    " - __Q2:__ Try the other two longer key modes. Does it remedy the problem?\n",
    " \n",
    " - __Q3:__ Does this mean AES is broken!?"
   ]
  },
  {
   "cell_type": "markdown",
   "metadata": {},
   "source": [
    "  - __Q4:__ Let us try a different mode of operation, say CBC. Complete the following code and see the ciphertext. Note: there is a missing argument for the CBC mode, what is it?"
   ]
  },
  {
   "cell_type": "code",
   "execution_count": null,
   "metadata": {},
   "outputs": [],
   "source": [
    "%reset -f\n",
    "from IPython.display import display\n",
    "import PIL.Image\n",
    "from Crypto.Cipher import AES\n",
    "from Crypto.Random import get_random_bytes\n",
    "\n",
    "\n",
    "import ipywidgets as widgets\n",
    "\n",
    "im = PIL.Image.open('plaintext.ppm')\n",
    "display(im)\n",
    "\n",
    "with open('plaintext.ppm','rb') as inputfilehandle:\n",
    "    header = inputfilehandle.read(54)\n",
    "    body = inputfilehandle.read()\n",
    "\n",
    "# key\n",
    "input_key = widgets.Text(\n",
    "    value = '0', # initial inside text\n",
    "    placeholder = 'Enter AES key (in hex)', # inside text when cleared \n",
    "    description = 'AES Key (in hex):', # text before the text-input widget\n",
    "    style = {'description_width': 'initial'})\n",
    "\n",
    "def aes_encrypt(key):\n",
    "    \n",
    "    try:\n",
    "        key = bytes.fromhex(key)\n",
    "        MY_AES_CBC_CIPHER = AES.new(key, AES.MODE_CBC) # oops! something seems missing here!\n",
    "        # IV = get_random_bytes(AES.block_size)\n",
    "        # MY_AES_CBC_CIPHER = AES.new(key, AES.MODE_CBC, IV=IV)\n",
    "        body_enc = MY_AES_CBC_CIPHER.encrypt(body)\n",
    "        ciphertext = header+body_enc\n",
    "        with open('ciphertext.ppm','wb') as outputfilehandle:\n",
    "            outputfilehandle.write(ciphertext)\n",
    "        im_enc = PIL.Image.open('ciphertext.ppm')\n",
    "        display(im_enc)\n",
    "    except ValueError as e:\n",
    "        print(e) # print the specific error raised\n",
    "    except Exception as err:\n",
    "        print(err)\n",
    "        raise\n",
    "        \n",
    "out = widgets.interactive_output(aes_encrypt, {'key': input_key})\n",
    "display(input_key, out)"
   ]
  },
  {
   "cell_type": "markdown",
   "metadata": {},
   "source": [
    " - __Q5:__ what is the effect of AES CBC mode on the ciphertext?\n",
    " \n",
    " - __Q6:__ Try the same exercise on another \"plaintext\" in the following. You will encounter a different error. Fix it!"
   ]
  },
  {
   "cell_type": "code",
   "execution_count": null,
   "metadata": {},
   "outputs": [],
   "source": [
    "%reset -f\n",
    "from IPython.display import display\n",
    "import PIL.Image\n",
    "from Crypto.Cipher import AES\n",
    "\n",
    "import ipywidgets as widgets\n",
    "import io\n",
    "\n",
    "# key\n",
    "input_key = widgets.Text(\n",
    "    value = '00000000000000000000000000000000', # initial inside text\n",
    "    placeholder = 'Enter your AES key', # inside text when cleared \n",
    "    description = 'AES Key:', # text before the text-input widget\n",
    "    style = {'description_width': 'initial'})\n",
    "\n",
    "def aes_encrypt(key, plaintext):\n",
    "\n",
    "    MY_AES_ECB_CIPHER = AES.new(key, AES.MODE_ECB)\n",
    "    ciphertext = MY_AES_ECB_CIPHER.encrypt(plaintext)\n",
    "    return ciphertext\n",
    "    \n",
    "\n",
    "        \n",
    "def aes_encrypt_reddit(key):\n",
    "\n",
    "    key = bytes.fromhex(key)\n",
    "    im = PIL.Image.open('reddit.ppm')\n",
    "    display(im)\n",
    "\n",
    "    with open('reddit.ppm','rb') as inputfilehandle:\n",
    "        header = inputfilehandle.read(55)\n",
    "        body = inputfilehandle.read()\n",
    "\n",
    "    body_enc = aes_encrypt(key, body)\n",
    "    with open('reddit_enc_aes.ppm','wb') as outputfilehandle:\n",
    "        outputfilehandle.write(header+body_enc)\n",
    "\n",
    "    im_enc = PIL.Image.open('reddit_enc_aes.ppm')\n",
    "    display(im_enc)\n",
    "\n",
    "out = widgets.interactive_output(aes_encrypt_reddit, {'key': input_key})\n",
    "display(input_key, out)"
   ]
  },
  {
   "cell_type": "code",
   "execution_count": null,
   "metadata": {},
   "outputs": [],
   "source": [
    "# ask for a hint if stuck!"
   ]
  }
 ],
 "metadata": {
  "kernelspec": {
   "display_name": "Python 3",
   "language": "python",
   "name": "python3"
  },
  "language_info": {
   "codemirror_mode": {
    "name": "ipython",
    "version": 3
   },
   "file_extension": ".py",
   "mimetype": "text/x-python",
   "name": "python",
   "nbconvert_exporter": "python",
   "pygments_lexer": "ipython3",
   "version": "3.7.3"
  }
 },
 "nbformat": 4,
 "nbformat_minor": 2
}
