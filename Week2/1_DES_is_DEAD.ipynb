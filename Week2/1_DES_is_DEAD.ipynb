{
 "cells": [
  {
   "cell_type": "code",
   "execution_count": null,
   "metadata": {},
   "outputs": [],
   "source": [
    "# !which python\n",
    "# import sys\n",
    "# print(sys.executable)\n",
    "\n",
    "!python -m pip install --upgrade pip\n",
    "# !python -m pip install pycrypto\n",
    "# !python -m pip uninstall pycrypto --yes\n",
    "!python -m easy_install pycryptodome\n",
    "# !python -m easy_install pycryptodomex\n",
    "!python -m pip install Pillow\n",
    "!python -m jupyter nbextension enable --py widgetsnbextension --sys-prefix\n",
    "\n",
    "print('='*20+'\\n\\nReady to Go!')"
   ]
  },
  {
   "cell_type": "markdown",
   "metadata": {},
   "source": [
    "# The Death of DES!\n",
    "\n",
    "Before AES, there was DES, the gold standard of yesteryear (1980s and 1990s). DES stands for *__D__ata __E__ncryption __S__tandard*, quite presumptive and ironic naming in retrospect, which raises the question, is the word \"Advanced\" Encryption System (AES) going to become a source of amusement in a not-so-distant future?! \n",
    "\n",
    "But joking aside, the death of DES came about primarily due NOT to an inherent weakness in its design (though some *better-than-brute-force* academic attacks were discovered later on) but rather because of its short key length! DES was developed by engi-scientists of IBM in close collaboration with the US's National Security Agency -- NSA (later turned out). NSA's involvement was allegedly a double-edge sword: it helped to strengthen DES against a class of mathematical attack techniques (called *differential cryptanalytic* attacks, later re-discovered), but at the same time, weakened the cipher against brute-force attacks, by (again, allegedly) convincing IBM to choose a shorter key length (with the excuse that the implementation can be done on a single chip)! In what follows, we examine DES a bit, and convince ourselves why **DES is dead**. \n",
    "\n",
    "### DES Questions:\n",
    "- __Q0:__ In terms of the number of bytes and bits, what is the *block-size* of DES? "
   ]
  },
  {
   "cell_type": "markdown",
   "metadata": {},
   "source": [
    " *A0:* "
   ]
  },
  {
   "cell_type": "markdown",
   "metadata": {},
   "source": [
    "- __Q1:__ In terms of the number of bits, what is the *key length* and the *key-space size* of DES? \n",
    "\n",
    " <font color=gray>*Hint: the following commands may help. Uncomment by removing the `#` sign or pressing `Ctrl+/` on the commented line, and again, recall that `Shift+Enter` or `Ctrl+Enter` executes a cell in `jupyter notebook`.*</font>"
   ]
  },
  {
   "cell_type": "markdown",
   "metadata": {},
   "source": [
    "_A1:_ "
   ]
  },
  {
   "cell_type": "code",
   "execution_count": null,
   "metadata": {},
   "outputs": [],
   "source": [
    "from Crypto.Cipher import DES\n",
    "# print('DES.block_size: {} bytes (what is it in terms of bits?)'.format(DES.block_size))\n",
    "# print('DES.key_size: {} bytes (but be careful, not all the bits are \"free\"...)'.format(DES.key_size))"
   ]
  },
  {
   "cell_type": "markdown",
   "metadata": {},
   "source": [
    "- __Q2:__ Assume we are using a computing machine consisting of **X** processors, each of which can test **Y million** keys per second, (by \"testing a key\", we mean executing a DES decryption using that key). Suppose we have a DES ciphertext and we know what plaintext it is coming from (say, it is from a standard header of a pdf file). We just don't know the key. We decide to launch a brute-force attack (exhaustive key search). How long is it likely to take before we find the right DES key? Express the result in terms of seconds, hours, days, and years! Once you are clear with the question, finish the following code that produces the answer.\n",
    " \n",
    " -  <font color=gray> *Hint 1:* Note that we may get lucky and stumble on the right key even in the first attempt. Or, we may be terribly unlucky and succeed on the very last try! But \"on average\" how much of the the key-space one would explore before the successful hit?</font>\n",
    " - <font color=gray> *Hint 2:* Fortunately, trying different keys can be fully parallelised! In the simple sense that, we can partition the key space and assign each subset to each processor.</font>\n",
    " - <font color=gray> *Hint 3:* Computing $a^b$ in python is done by `a**b`.</font>\n"
   ]
  },
  {
   "cell_type": "code",
   "execution_count": null,
   "metadata": {},
   "outputs": [],
   "source": [
    "%reset -f\n",
    "import ipywidgets as widgets\n",
    "\n",
    "# first the function:\n",
    "def DES_Average_Brute_Force_Time(X, Y):\n",
    "    \"\"\"Function that computes the average time it takes to \"break\" DES cipher through brute-force (exhaustive key search), \n",
    "    i.e., find the correct key that decrypts a ciphertext to its corresponding plaintext (assuming a pair is known).\n",
    "    \n",
    "    Args (input arguments):\n",
    "        X: (an integer) the number of available processors.\n",
    "        Y: (a float) the speed of each processor, in terms of  HOW MANY KEYS PER SECOND each can test.  \n",
    "\n",
    "    Returns (output):\n",
    "        Nothing. Just prints the \"average\" (expected value) of the time for a brute-force attack, \n",
    "        in SECONDS, HOURS, DAYS, and YEARS. \n",
    "    \n",
    "    \"\"\"\n",
    "    try:\n",
    "        X = int(X)\n",
    "        Y = float(Y)\n",
    "        _DES_KEY_LENGTH = 56 # why is it 56 and not 64?!\n",
    "        BRUTE_FORCE_SECONDS =  2**(_DES_KEY_LENGTH-1)/(X*Y*1000000) # why the minus 1 in the power?\n",
    "        BRUTE_FORCE_HOURS = 0 # to be edited by you!\n",
    "        BRUTE_FORCE_DAYS = 0 # to be edited by you!\n",
    "        BRUTE_FORCE_YEARS = 0 # to be edited by you!\n",
    "        \n",
    "        print('Averge duration of a Brute-Force attack on DES:')\n",
    "        print(' - in terms of seconds: ~ {:.0f}'.format(BRUTE_FORCE_SECONDS))\n",
    "        print(' - in terms of hours: ~ {:.2f}'.format(BRUTE_FORCE_HOURS))\n",
    "        print(' - in terms of days: ~ {:.2f}'.format(BRUTE_FORCE_DAYS))\n",
    "        print(' - in terms years: ~ {:.3f}'.format(BRUTE_FORCE_YEARS))\n",
    "        \n",
    "    except ValueError as e:\n",
    "        print(e)\n",
    "        print('The number of available processors and the keys/second rate of each processor should be provided!')\n",
    "    except Exception as err:\n",
    "        print(err)\n",
    "        raise\n",
    "        \n",
    "    \n",
    "# now, using the function:\n",
    "\n",
    "header_message_DES_brute_force = widgets.Label(value='Estimating the average time for a brute-force attack on DES:')\n",
    "\n",
    "# input widget to get the number of processors \n",
    "input_num_processors = widgets.Text(\n",
    "    value = '100', # typical size of your cluster\n",
    "    placeholder = 'Enter the number of processors (an integer)!', # inside text when cleared \n",
    "    description = 'Number of available processors: ',\n",
    "    style = {'description_width': 'initial'},\n",
    "    layout = widgets.Layout(width='90%'),\n",
    "\n",
    ")\n",
    "\n",
    "# input widget to get the speed of each processor in terms of number of keys it can test in each second\n",
    "input_processing_rate = widgets.Text(\n",
    "    value = '2000', # a typical CPU nowadays is at least 2 GHz clock speed\n",
    "    placeholder = 'Enter the peoc. speed of each processor in terms of how many million keys it can test in each second', # inside text when cleared \n",
    "    description = 'Proc. Speed of each (Million Keys/Sec)',\n",
    "    style = {'description_width': 'initial'},    \n",
    "    layout = widgets.Layout(width='90%'),\n",
    "    \n",
    ")\n",
    "\n",
    "input_num_processors_with_desc = widgets.HBox([widgets.Label('Number of Available Processors: '), input_num_processors])\n",
    "\n",
    "ui = widgets.VBox([header_message_DES_brute_force, input_num_processors, input_processing_rate])\n",
    "out = widgets.interactive_output(DES_Average_Brute_Force_Time, {'X': input_num_processors, 'Y': input_processing_rate})\n",
    "display(ui, out)"
   ]
  },
  {
   "cell_type": "markdown",
   "metadata": {},
   "source": [
    " - __Q3:__ Suppose you have intercepted a DES-encrypted pdf detailing the buying budget of a company that you are meeting tomorrow at this time to discuss a deal! You know what the first block of the plaintext is (say it is the predictable standard stuff that appears in the header of any (binary) file of a pdf). So you decide to launch a brute-force attack. But you have to do it before tomorrow's meeting, otherwise the information is irrelevant. You do some estimation and realise your PC is not up to the task. But you remember you live in the age of cloud computing! So you visit this website: __[https://aws.amazon.com/ec2/pricing/on-demand/](https://aws.amazon.com/ec2/pricing/on-demand/)__. After some quick deliberation, you choose to use a grid of `g3.4xlarge` instances. Estimate how much money you have to be ready to pay to *guarantee* you can *crack it* in time?  \n",
    "  - <font color=gray>*Hint1:* Make the assumption that each vCPU is running at about 3 GHz (a better measure is ECU: each ECU is equivalent to about 1 GHz), and each `g3.4xlarge` instance is about `58` ECU. </font>\n",
    "  - <font color=gray>*Hint2:* Make the assumption that you need about 100 cycles for each DES encryption or decryption.</font>\n",
    "  - <font color=gray>*Hint3:* This is a rough estimation, so make any necessary assumptions along the way! </font>\n",
    "  - <font color=gray>*Hint4:* Remember, if you need a calculator, you have a python right here! You may even decide to write a quick script for it! </font>\n"
   ]
  },
  {
   "cell_type": "code",
   "execution_count": null,
   "metadata": {},
   "outputs": [],
   "source": [
    "# for your scripting!"
   ]
  },
  {
   "cell_type": "markdown",
   "metadata": {},
   "source": [
    "You are ready to pay the cloud-based price, before you remember that in 2006, a \"Cost-Optimized Parallel COde Breaker\" that used dedicated FPGAs called __[COPACOBANA](https://en.wikipedia.org/wiki/Custom_hardware_attack)__ won the DES cracking in a single-day challenge and could be built for less than \\$10,000 and you heard there was a successor of it called __[COPACOBANA RIVYERA](http://www.sciengines.com/technology-platform/sciengines-hardware/legacy-products/)__. You do a search and find companies like __[https://crack.sh/](https://crack.sh/)__ that provide guaranteed DES cracking for a fee of about \\$300. You learn a lesson that DES is dead and stop pushing the allegory too far! "
   ]
  },
  {
   "cell_type": "markdown",
   "metadata": {},
   "source": [
    "## 3DES -- OPTIONAL\n",
    "In a panic mode (mostly by financial industries, understandably), a makeshift solution to increase the key-length of DES was proposed until a better solution is developed. Tripple-DES was the idea. "
   ]
  },
  {
   "cell_type": "markdown",
   "metadata": {},
   "source": [
    " - __Q0:__ What is the effective key-length of 3DES? (Note: due to a technique called \"__[meet-in-the-middle attack](https://en.wikipedia.org/wiki/Meet-in-the-middle_attack)__\", it is not three times the effective key length of DES!) \n",
    " - __Q1:__ Compared to DES, how long more does a brute-force attack take (e.g. twice, three times, etc.)?\n",
    " - __Q2:__ **Optional** Implement your own 3DES from  Crypto.Cipher.DES. You can write it either as a function or a class, or extend the  Crypto.Cipher.DES class, whichever you prefer.  \n",
    " *This exercise is optional because we don't want to spend too much time on a make-shift solution, since as we know, AES replaced it and removed (almost) any excuse to use outdated schemes like DES or 3DES.*   "
   ]
  },
  {
   "cell_type": "code",
   "execution_count": null,
   "metadata": {},
   "outputs": [],
   "source": []
  }
 ],
 "metadata": {
  "kernelspec": {
   "display_name": "Python 3",
   "language": "python",
   "name": "python3"
  },
  "language_info": {
   "codemirror_mode": {
    "name": "ipython",
    "version": 3
   },
   "file_extension": ".py",
   "mimetype": "text/x-python",
   "name": "python",
   "nbconvert_exporter": "python",
   "pygments_lexer": "ipython3",
   "version": "3.7.3"
  }
 },
 "nbformat": 4,
 "nbformat_minor": 2
}
